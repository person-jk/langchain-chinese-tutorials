{
 "cells": [
  {
   "cell_type": "markdown",
   "metadata": {},
   "source": [
    "### 矢量存储和检索器"
   ]
  },
  {
   "cell_type": "markdown",
   "metadata": {},
   "source": [
    "本教程将让您熟悉LangChain的向量存储和检索器抽象。\n",
    "\n",
    "这些抽象旨在支持从（向量）数据库和其他来源检索数据，以便与 LLM 工作流集成。\n",
    "\n",
    "它们对于获取数据作为模型推理的一部分进行推理的应用程序非常重要，\n",
    "\n",
    "例如检索增强生成或 RAG（请参阅此处的 RAG 教程）。"
   ]
  },
  {
   "cell_type": "markdown",
   "metadata": {},
   "source": [
    "#### 概念\n",
    "\n",
    "本指南重点介绍文本数据的检索。我们将介绍以下概念：\n",
    "\n",
    "\n",
    "文件;\n",
    "\n",
    "向量存储;\n",
    "\n",
    "猎犬。"
   ]
  },
  {
   "cell_type": "markdown",
   "metadata": {},
   "source": [
    "#### 设置\n",
    "Jupyter 笔记本\n",
    "\n",
    "本教程和其他教程可能在 Jupyter 笔记本中运行最方便。有关如何安装的说明，请参阅此处。\n",
    "\n",
    "##### 安装\n",
    "本教程需要安装 `langchain`, `langchain-chroma` `langchain-openai`"
   ]
  },
  {
   "cell_type": "markdown",
   "metadata": {},
   "source": [
    "#### 文件\n",
    "LangChain实现了一个文档抽象，旨在表示文本单元和关联的元数据。它有两个属性：\n",
    "\n",
    "`page_content`：表示内容的字符串;\n",
    "\n",
    "`metadata`：包含任意元数据的字典。\n",
    "\n",
    "该属性可以捕获有关文档源、文档与其他文档的关系以及其他信息的信息。\n",
    "\n",
    "请注意，单个对象通常表示较大文档的块。metadataDocument\n",
    "\n",
    "让我们生成一些示例文档"
   ]
  },
  {
   "cell_type": "code",
   "execution_count": 11,
   "metadata": {},
   "outputs": [],
   "source": [
    "from langchain_core.documents import Document\n",
    "\n",
    "documents = [\n",
    "    Document(\n",
    "        page_content=\"狗是伟大的伴侣，以其忠诚和友好而闻名.\",\n",
    "        metadata={\"source\": \"哺乳动物宠物-doc\"},\n",
    "    ),\n",
    "    Document(\n",
    "        page_content=\"猫是独立的宠物，经常享受自己的空间.\",\n",
    "        metadata={\"source\": \"哺乳动物宠物-doc\"},\n",
    "    ),\n",
    "    Document(\n",
    "        page_content=\"金鱼是初学者的热门宠物，需要相对简单的照顾.\",\n",
    "        metadata={\"source\": \"鱼类动物-doc\"},\n",
    "    ),\n",
    "    Document(\n",
    "        page_content=\"鹦鹉是聪明的鸟，能够模仿人类的语言.\",\n",
    "        metadata={\"source\": \"鸟类动物-doc\"},\n",
    "    ),\n",
    "    Document(\n",
    "        page_content=\"兔子是群居动物，需要足够的空间来跳来跳去.\",\n",
    "        metadata={\"source\": \"哺乳动物宠物-doc\"},\n",
    "    ),\n",
    "]"
   ]
  },
  {
   "cell_type": "markdown",
   "metadata": {},
   "source": [
    "在这里，我们生成了五个文档，其中包含指示三个不同“来源”的元数据。"
   ]
  },
  {
   "cell_type": "markdown",
   "metadata": {},
   "source": [
    "#### 矢量存储\n",
    "矢量搜索是存储和搜索非结构化数据（如非结构化文本）的常用方法。这个想法是存储与文本关联的数字向量。\n",
    "\n",
    "给定一个查询，我们可以将其嵌入为相同维度的向量，并使用向量相似度量来识别存储中的相关数据。\n",
    "\n",
    "LangChain VectorStore 对象包含用于将文本和对象添加到存储中的方法，以及使用各种相似度指标查询它们的方法。\n",
    "\n",
    "它们通常使用嵌入模型进行初始化，这些模型决定了如何将文本数据转换为数字向量。Document\n",
    "\n",
    "LangChain包括一套与不同向量存储技术的集成。\n",
    "\n",
    "一些矢量存储由提供商（例如，各种云提供商）托管，需要特定的凭据才能使用;\n",
    "\n",
    "有些（如Postgres）运行在单独的基础设施中，可以在本地或通过第三方运行;其他人可以在内存中运行轻量级工作负载。\n",
    "\n",
    "在这里，我们将演示使用Chroma使用LangChain VectorStores，其中包括内存实现。\n",
    "\n",
    "为了实例化向量存储，我们通常需要提供一个嵌入模型来指定如何将文本转换为数字向量。在这里，我们将使用 OpenAI 嵌入。(实际上是用阿里的来)"
   ]
  },
  {
   "cell_type": "code",
   "execution_count": 3,
   "metadata": {},
   "outputs": [],
   "source": [
    "import os,getpass\n",
    "os.environ[\"DASHSCOPE_API_KEY\"] = getpass.getpass()"
   ]
  },
  {
   "cell_type": "code",
   "execution_count": 12,
   "metadata": {},
   "outputs": [],
   "source": [
    "from langchain_chroma import Chroma\n",
    "from langchain_community.embeddings import DashScopeEmbeddings\n",
    "\n",
    "vectorstore = Chroma.from_documents(\n",
    "    documents,\n",
    "    embedding=DashScopeEmbeddings(),\n",
    ")"
   ]
  },
  {
   "cell_type": "markdown",
   "metadata": {},
   "source": [
    "在此处调用会将文档添加到矢量存储中。\n",
    "\n",
    "`VectorStore` 实现用于添加文档的方法，这些文档也可以在实例化对象后调用。\n",
    "\n",
    "大多数实现都允许您连接到现有的向量存储，例如，通过提供客户端、索引名称或其他信息。有关更多详细信息，请参阅特定集成的文档。`.from_documents`\n",
    "\n",
    "一旦我们实例化了包含文档的`a`，我们就可以查询它。\n",
    "\n",
    "VectorStore 包括用于查询的方法：`VectorStore`\n",
    "\n",
    "同步和异步;\n",
    "\n",
    "通过字符串查询和向量;\n",
    "\n",
    "有和没有返回相似性分数;\n",
    "\n",
    "通过相似性和最大边际相关性（以平衡相似性与查询到检索结果的多样性）。\n",
    "\n",
    "这些方法通常会在其输出中包含 Document 对象的列表。"
   ]
  },
  {
   "cell_type": "markdown",
   "metadata": {},
   "source": [
    "#### 例子\n",
    "\n",
    "根据与字符串查询的相似性返回文档："
   ]
  },
  {
   "cell_type": "code",
   "execution_count": 13,
   "metadata": {},
   "outputs": [
    {
     "data": {
      "text/plain": [
       "[Document(page_content='猫是独立的宠物，经常享受自己的空间.', metadata={'source': '哺乳动物宠物-doc'}),\n",
       " Document(page_content='狗是伟大的伴侣，以其忠诚和友好而闻名.', metadata={'source': '哺乳动物宠物-doc'}),\n",
       " Document(page_content='Cats are independent pets that often enjoy their own space.', metadata={'source': 'mammal-pets-doc'}),\n",
       " Document(page_content='兔子是群居动物，需要足够的空间来跳来跳去.', metadata={'source': '哺乳动物宠物-doc'})]"
      ]
     },
     "execution_count": 13,
     "metadata": {},
     "output_type": "execute_result"
    }
   ],
   "source": [
    "vectorstore.similarity_search(\"猫\")"
   ]
  },
  {
   "cell_type": "code",
   "execution_count": 14,
   "metadata": {},
   "outputs": [
    {
     "data": {
      "text/plain": [
       "[Document(page_content='猫是独立的宠物，经常享受自己的空间.', metadata={'source': '哺乳动物宠物-doc'}),\n",
       " Document(page_content='狗是伟大的伴侣，以其忠诚和友好而闻名.', metadata={'source': '哺乳动物宠物-doc'}),\n",
       " Document(page_content='Cats are independent pets that often enjoy their own space.', metadata={'source': 'mammal-pets-doc'}),\n",
       " Document(page_content='兔子是群居动物，需要足够的空间来跳来跳去.', metadata={'source': '哺乳动物宠物-doc'})]"
      ]
     },
     "execution_count": 14,
     "metadata": {},
     "output_type": "execute_result"
    }
   ],
   "source": [
    "# 异步查询：\n",
    "await vectorstore.asimilarity_search(\"猫\")"
   ]
  },
  {
   "cell_type": "code",
   "execution_count": 15,
   "metadata": {},
   "outputs": [
    {
     "data": {
      "text/plain": [
       "[(Document(page_content='猫是独立的宠物，经常享受自己的空间.', metadata={'source': '哺乳动物宠物-doc'}),\n",
       "  6114.28076171875),\n",
       " (Document(page_content='狗是伟大的伴侣，以其忠诚和友好而闻名.', metadata={'source': '哺乳动物宠物-doc'}),\n",
       "  10852.2373046875),\n",
       " (Document(page_content='Cats are independent pets that often enjoy their own space.', metadata={'source': 'mammal-pets-doc'}),\n",
       "  10947.896484375),\n",
       " (Document(page_content='兔子是群居动物，需要足够的空间来跳来跳去.', metadata={'source': '哺乳动物宠物-doc'}),\n",
       "  12230.74609375)]"
      ]
     },
     "execution_count": 15,
     "metadata": {},
     "output_type": "execute_result"
    }
   ],
   "source": [
    "# 返回相似度:\n",
    "\n",
    "# 请注意，提供商实施的分数不同；此处为Chroma。\n",
    "# 返回应与成反比的距离度量。\n",
    "# 相似性。\n",
    "\n",
    "vectorstore.similarity_search_with_score(\"猫\")"
   ]
  },
  {
   "cell_type": "code",
   "execution_count": 16,
   "metadata": {},
   "outputs": [
    {
     "data": {
      "text/plain": [
       "[Document(page_content='猫是独立的宠物，经常享受自己的空间.', metadata={'source': '哺乳动物宠物-doc'}),\n",
       " Document(page_content='狗是伟大的伴侣，以其忠诚和友好而闻名.', metadata={'source': '哺乳动物宠物-doc'}),\n",
       " Document(page_content='Cats are independent pets that often enjoy their own space.', metadata={'source': 'mammal-pets-doc'}),\n",
       " Document(page_content='兔子是群居动物，需要足够的空间来跳来跳去.', metadata={'source': '哺乳动物宠物-doc'})]"
      ]
     },
     "execution_count": 16,
     "metadata": {},
     "output_type": "execute_result"
    }
   ],
   "source": [
    "# 根据与嵌入查询的相似性返回文档\n",
    "\n",
    "embedding = DashScopeEmbeddings().embed_query(\"猫\")\n",
    "\n",
    "vectorstore.similarity_search_by_vector(embedding)"
   ]
  },
  {
   "cell_type": "markdown",
   "metadata": {},
   "source": [
    "#### Retrievers 追回"
   ]
  },
  {
   "cell_type": "markdown",
   "metadata": {},
   "source": [
    "LangChain 对象不对 `Runnable` 进行子类化，因此无法立即集成到 `LangChain` 表达式语言链中。`VectorStore`\n",
    "\n",
    "LangChain检索器是可运行的，因此它们实现了一组标准方法（例如，同步和异步以及操作），并被设计为合并到LCEL链中。`invokebatch`\n",
    "\n",
    "我们可以自己创建一个简单的版本，而无需子类化。\n",
    "\n",
    "如果我们选择我们希望使用哪种方法来检索文档，我们可以轻松创建一个可运行的。\n",
    "\n",
    "下面我们将围绕该方法构建一个：`Retriever`  `similarity_search`"
   ]
  },
  {
   "cell_type": "code",
   "execution_count": 17,
   "metadata": {},
   "outputs": [
    {
     "data": {
      "text/plain": [
       "[[Document(page_content='猫是独立的宠物，经常享受自己的空间.', metadata={'source': '哺乳动物宠物-doc'})],\n",
       " [Document(page_content='金鱼是初学者的热门宠物，需要相对简单的照顾.', metadata={'source': '鱼类动物-doc'})]]"
      ]
     },
     "execution_count": 17,
     "metadata": {},
     "output_type": "execute_result"
    }
   ],
   "source": [
    "from typing import List\n",
    "\n",
    "from langchain_core.documents import Document\n",
    "from langchain_core.runnables import RunnableLambda\n",
    "\n",
    "retriever = RunnableLambda(vectorstore.similarity_search).bind(k=1)  # select top result\n",
    "\n",
    "retriever.batch([\"猫\", \"鲨鱼\"])"
   ]
  },
  {
   "cell_type": "markdown",
   "metadata": {},
   "source": [
    "`Vectorstores` 实现一个将生成 Retriever（特别是 VectorStoreRetriever）的方法。\n",
    "\n",
    "这些检索器包括特定的属性，用于标识要调用的基础向量存储的哪些方法，以及如何参数化它们。\n",
    "\n",
    "例如，我们可以使用以下内容复制上述内容：`as_retriever` `search_type` `search_kwargs`"
   ]
  },
  {
   "cell_type": "code",
   "execution_count": 18,
   "metadata": {},
   "outputs": [
    {
     "data": {
      "text/plain": [
       "[[Document(page_content='猫是独立的宠物，经常享受自己的空间.', metadata={'source': '哺乳动物宠物-doc'})],\n",
       " [Document(page_content='金鱼是初学者的热门宠物，需要相对简单的照顾.', metadata={'source': '鱼类动物-doc'})]]"
      ]
     },
     "execution_count": 18,
     "metadata": {},
     "output_type": "execute_result"
    }
   ],
   "source": [
    "retriever = vectorstore.as_retriever(\n",
    "    search_type=\"similarity\",\n",
    "    search_kwargs={\"k\": 1},\n",
    ")\n",
    "\n",
    "retriever.batch([\"猫\", \"鲨鱼\"])"
   ]
  },
  {
   "cell_type": "markdown",
   "metadata": {},
   "source": [
    "VectorStoreRetriever支持 （default）、（最大边际相关性，如上所述）和 我们可以使用后者通过相似性分数对检索器输出的文档进行阈值。\n",
    "\n",
    "\"similarity\" \"mmr\" \"similarity_score_threshold\"\n",
    "\n"
   ]
  },
  {
   "cell_type": "markdown",
   "metadata": {},
   "source": [
    "检索器可以很容易地合并到更复杂的应用程序中，例如检索增强生成 （RAG） 应用程序，它将给定的问题与检索到的上下文组合成 LLM 的提示。\n",
    "\n",
    "下面我们展示一个最小的例子。"
   ]
  },
  {
   "cell_type": "code",
   "execution_count": 19,
   "metadata": {},
   "outputs": [],
   "source": [
    "import getpass\n",
    "import os\n",
    "\n",
    "os.environ[\"OPENAI_API_KEY\"] = getpass.getpass()\n",
    "\n",
    "from langchain_openai import ChatOpenAI\n",
    "\n",
    "llm = ChatOpenAI(model=\"qwen-plus\", base_url=\"https://dashscope.aliyuncs.com/compatible-mode/v1\") # 还是用阿里好了"
   ]
  },
  {
   "cell_type": "code",
   "execution_count": 20,
   "metadata": {},
   "outputs": [],
   "source": [
    "from langchain_core.prompts import ChatPromptTemplate\n",
    "from langchain_core.runnables import RunnablePassthrough\n",
    "\n",
    "message = \"\"\"\n",
    "Answer this question using the provided context only.\n",
    "\n",
    "{question}\n",
    "\n",
    "Context:\n",
    "{context}\n",
    "\"\"\"\n",
    "\n",
    "prompt = ChatPromptTemplate.from_messages([(\"human\", message)])\n",
    "\n",
    "rag_chain = {\"context\": retriever, \"question\": RunnablePassthrough()} | prompt | llm"
   ]
  },
  {
   "cell_type": "code",
   "execution_count": 21,
   "metadata": {},
   "outputs": [
    {
     "name": "stdout",
     "output_type": "stream",
     "text": [
      "猫是独立的宠物，它们通常喜欢有自己的空间。\n"
     ]
    }
   ],
   "source": [
    "response = rag_chain.invoke(\"告诉我关于猫的信息\")\n",
    "\n",
    "print(response.content)"
   ]
  },
  {
   "cell_type": "markdown",
   "metadata": {},
   "source": [
    "检索策略可以是丰富而复杂的。例如：\n",
    "\n",
    "1. 我们可以从查询中推断出硬规则和过滤器（例如，“使用 2020 年之后发布的文档”）;\n",
    "\n",
    "2. 我们可以以某种方式（例如，通过某些文档分类法）返回链接到检索到的上下文的文档;\n",
    "\n",
    "3. 我们可以为每个上下文单元生成多个嵌入;\n",
    "\n",
    "4. 我们可以汇总来自多个检索器的结果;\n",
    "\n",
    "我们可以为文档分配权重，例如，将最近的文档权重更高。"
   ]
  }
 ],
 "metadata": {
  "kernelspec": {
   "display_name": "langchain",
   "language": "python",
   "name": "python3"
  },
  "language_info": {
   "codemirror_mode": {
    "name": "ipython",
    "version": 3
   },
   "file_extension": ".py",
   "mimetype": "text/x-python",
   "name": "python",
   "nbconvert_exporter": "python",
   "pygments_lexer": "ipython3",
   "version": "3.11.9"
  }
 },
 "nbformat": 4,
 "nbformat_minor": 2
}
