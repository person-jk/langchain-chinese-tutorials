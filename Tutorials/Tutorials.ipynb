{
 "cells": [
  {
   "cell_type": "markdown",
   "metadata": {},
   "source": [
    "### 教程\n",
    "您是 LangChain 或 LLM 应用程序开发的新手吗？阅读本材料以快速入门。"
   ]
  },
  {
   "cell_type": "markdown",
   "metadata": {},
   "source": [
    "### 基础知识\n",
    "\n",
    "构建简单的 LLM 应用程序\n",
    "\n",
    "构建聊天机器人\n",
    "\n",
    "构建向量存储和检索器\n",
    "\n",
    "构建代理"
   ]
  },
  {
   "cell_type": "markdown",
   "metadata": {},
   "source": [
    "### 使用外部知识\n",
    "\n",
    "构建检索增强生成 (RAG) 应用程序\n",
    "\n",
    "构建对话式 RAG 应用程序\n",
    "\n",
    "基于 SQL 数据构建问答系统\n",
    "\n",
    "构建查询分析系统\n",
    "\n",
    "构建本地 RAG 应用程序\n",
    "\n",
    "基于图形数据库构建问答应用程序"
   ]
  },
  {
   "cell_type": "markdown",
   "metadata": {},
   "source": [
    "### 专门任务\n",
    "\n",
    "构建提取链\n",
    "\n",
    "生成合成数据\n",
    "\n",
    "将文本分类为标签\n",
    "\n",
    "总结文本"
   ]
  }
 ],
 "metadata": {
  "language_info": {
   "name": "python"
  }
 },
 "nbformat": 4,
 "nbformat_minor": 2
}
