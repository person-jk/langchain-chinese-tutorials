{
 "cells": [
  {
   "cell_type": "markdown",
   "metadata": {},
   "source": [
    "### 简介\n",
    "LangChain 是一个由大型语言模型 (LLM) 驱动的应用程序开发框架。\n"
   ]
  },
  {
   "cell_type": "markdown",
   "metadata": {},
   "source": [
    "LangChain 简化了 LLM 应用程序生命周期的每个阶段：\n",
    "\n",
    "开发：使用 LangChain 的开源构建块和组件构建应用程序。使用第三方集成和模板快速开始运行。\n",
    "\n",
    "生产化：使用 LangSmith 检查、监控和评估您的链，以便您可以自信地持续优化和部署。\n",
    "\n",
    "部署：使用 LangServe 将任何链转换为 API。\n",
    "\n",
    "图表概述了 LangChain 框架的层次结构，显示了跨多个层的互连部分。\n"
   ]
  },
  {
   "cell_type": "markdown",
   "metadata": {},
   "source": [
    "具体来说，该框架由以下开源库组成：\n",
    "\n",
    "langchain-core：基本抽象和 LangChain 表达语言。\n",
    "\n",
    "langchain-community：第三方集成。\n",
    "\n",
    "合作伙伴包（例如 langchain-openai、langchain-anthropic 等）：一些集成已进一步拆分为仅依赖于 langchain-core 的自己的轻量级包。\n",
    "\n",
    "langchain：构成应用程序认知架构的链、代理和检索策略。\n",
    "\n",
    "langgraph：通过将步骤建模为图中的边和节点，使用 LLM 构建强大且有状态的多参与者应用程序。\n",
    "\n",
    "langserve：将 LangChain 链部署为 REST API。\n",
    "\n",
    "LangSmith：一个开发人员平台，可让您调试、测试、评估和监控 LLM 应用程序。"
   ]
  },
  {
   "cell_type": "markdown",
   "metadata": {},
   "source": [
    "### 注意\n",
    "这些文档重点介绍 Python LangChain 库。前往此处查看有关 "
   ]
  },
  {
   "cell_type": "markdown",
   "metadata": {},
   "source": [
    "### 教程\n",
    "如果您希望构建特定的东西或更喜欢动手学习，请查看我们的教程。这是开始的最佳位置。\n",
    "\n",
    "这些是开始的最佳方法：\n",
    "\n",
    "构建一个简单的 LLM 应用程序\n",
    "构建一个聊天机器人\n",
    "构建一个代理\n",
    "在此处浏览完整的教程列表。"
   ]
  }
 ],
 "metadata": {
  "language_info": {
   "name": "python"
  }
 },
 "nbformat": 4,
 "nbformat_minor": 2
}
